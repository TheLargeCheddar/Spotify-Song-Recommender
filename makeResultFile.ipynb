{
 "cells": [
  {
   "cell_type": "code",
   "execution_count": 1,
   "id": "91f1f5d3",
   "metadata": {},
   "outputs": [],
   "source": [
    "import pandas as pd\n",
    "from sklearn.cluster import KMeans"
   ]
  },
  {
   "cell_type": "code",
   "execution_count": 6,
   "id": "9b021b92",
   "metadata": {},
   "outputs": [],
   "source": [
    "#use pandas to read from the spotify_tracks dataframe\n",
    "tracks_df = pd.read_csv('C:/Users/jack3/Downloads/CPTS_315_REPOS/RealProj315/SpotGenTrack/Data Sources/spotify_tracks.csv')"
   ]
  },
  {
   "cell_type": "code",
   "execution_count": null,
   "id": "c628d5e2",
   "metadata": {},
   "outputs": [],
   "source": [
    "reduced_df = tracks_df[:1000]\n",
    "pd.plotting.scatter_matrix(reduced_df[['energy', 'valence', 'danceability', 'instrumentalness', 'tempo']], figsize=(20,12))"
   ]
  },
  {
   "cell_type": "code",
   "execution_count": 13,
   "id": "1e49fec5",
   "metadata": {},
   "outputs": [
    {
     "data": {
      "text/plain": [
       "KMeans(n_clusters=5)"
      ]
     },
     "execution_count": 13,
     "metadata": {},
     "output_type": "execute_result"
    }
   ],
   "source": [
    "#choosing arbitrary number of clusters...\n",
    "model = KMeans(n_clusters=5)\n",
    "#use KMeans to fit the data into different clusters depending on their attributes\n",
    "model.fit(tracks_df[['energy', 'valence', 'danceability', 'instrumentalness', 'tempo']])"
   ]
  },
  {
   "cell_type": "code",
   "execution_count": 16,
   "id": "8200c45d",
   "metadata": {},
   "outputs": [
    {
     "name": "stdout",
     "output_type": "stream",
     "text": [
      "[2 2 1 2 1 1 1 4 1 1] \n",
      "\n",
      " 0 4\n"
     ]
    }
   ],
   "source": [
    "print(model.labels_[:10], '\\n\\n', min(model.labels_), max(model.labels_))"
   ]
  },
  {
   "cell_type": "code",
   "execution_count": 20,
   "id": "cc14e89b",
   "metadata": {},
   "outputs": [],
   "source": [
    "tracks_df['type'] = model.labels_\n",
    "#tracks_df.head(10)"
   ]
  },
  {
   "cell_type": "code",
   "execution_count": null,
   "id": "492e0abb",
   "metadata": {},
   "outputs": [],
   "source": [
    "tracks_df.to_csv('C:/Users/jack3/Downloads/CPTS_315_REPOS/RealProj315/result.csv')"
   ]
  }
 ],
 "metadata": {
  "kernelspec": {
   "display_name": "base",
   "language": "python",
   "name": "python3"
  },
  "language_info": {
   "codemirror_mode": {
    "name": "ipython",
    "version": 3
   },
   "file_extension": ".py",
   "mimetype": "text/x-python",
   "name": "python",
   "nbconvert_exporter": "python",
   "pygments_lexer": "ipython3",
   "version": "3.9.13"
  },
  "vscode": {
   "interpreter": {
    "hash": "ad2bdc8ecc057115af97d19610ffacc2b4e99fae6737bb82f5d7fb13d2f2c186"
   }
  }
 },
 "nbformat": 4,
 "nbformat_minor": 5
}
